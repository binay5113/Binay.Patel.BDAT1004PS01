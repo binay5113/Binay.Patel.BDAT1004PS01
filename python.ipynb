{
 "cells": [
  {
   "cell_type": "markdown",
   "id": "58827cff",
   "metadata": {},
   "source": [
    "# Question 6"
   ]
  },
  {
   "cell_type": "markdown",
   "id": "727bf35f",
   "metadata": {},
   "source": [
    "#### You can turn a word into pig-Latin using the following two rules(simplified):\n",
    "#### • If the word starts with a consonant, move that letter to the end and append 'ay'. For example, 'happy' becomes 'appyhay' and 'pencil' becomes 'encilpay'.\n",
    "#### • If the word starts with a vowel, simply append 'way' to the end of the word. For example, 'enter' becomes 'enterway' and 'other' becomes 'otherway' . For our purposes, there are 5 vowels: a, e, i, o, u (so we count y as a consonant).\n",
    "#### Write a function pig() that takes a word (i.e., a string) as input and returns its pig\u0002Latin form. Your function should still work if the input word contains upper case characters. Your output should always be lower case however.\n",
    "#### >>> pig('happy')\n",
    "#### 'appyhay'\n",
    "#### >>> pig('Enter')\n",
    "#### 'enterway"
   ]
  },
  {
   "cell_type": "code",
   "execution_count": 6,
   "id": "ce8eca81",
   "metadata": {},
   "outputs": [],
   "source": [
    "def pig(string):\n",
    "    if string[0].lower() in 'aeiou':\n",
    "        string += 'way'\n",
    "    else:\n",
    "        firstChar = string[0];\n",
    "        string = string[1:]\n",
    "        string = string + firstChar + 'ay'\n",
    "    return string.lower()"
   ]
  },
  {
   "cell_type": "code",
   "execution_count": 9,
   "id": "f2a832c7",
   "metadata": {},
   "outputs": [
    {
     "data": {
      "text/plain": [
       "'appyhay'"
      ]
     },
     "execution_count": 9,
     "metadata": {},
     "output_type": "execute_result"
    }
   ],
   "source": [
    "pig('happy')"
   ]
  },
  {
   "cell_type": "code",
   "execution_count": 10,
   "id": "1eadf58b",
   "metadata": {},
   "outputs": [
    {
     "data": {
      "text/plain": [
       "'enterway'"
      ]
     },
     "execution_count": 10,
     "metadata": {},
     "output_type": "execute_result"
    }
   ],
   "source": [
    "pig('Enter')"
   ]
  },
  {
   "cell_type": "markdown",
   "id": "331ded22",
   "metadata": {},
   "source": [
    "# Question 7"
   ]
  },
  {
   "cell_type": "markdown",
   "id": "21f1797b",
   "metadata": {},
   "source": [
    "#### File bloodtype1.txt records blood-types of patients (A, B, AB, O or OO) at a clinic. \n",
    "#### Write a function bldcount() that reads the file with name name and reports (i.e.,prints) how many patients there are in each bloodtype.\n",
    "#### >>> bldcount('bloodtype.txt')\n",
    "#### There are 10 patients of blood type A. \n",
    "#### There is one patient of blood type B. \n",
    "#### There are 10 patients of blood type AB. \n",
    "#### There are 12 patients of blood type O. \n",
    "#### There are no patients of blood type OO."
   ]
  },
  {
   "cell_type": "code",
   "execution_count": 52,
   "id": "96014682",
   "metadata": {},
   "outputs": [
    {
     "name": "stdout",
     "output_type": "stream",
     "text": [
      "There are 10 patients in A blood type.\n",
      "There are 1 patients in B blood type.\n",
      "There are 15 patients in O blood type.\n",
      "There are 13 patients in AB blood type.\n",
      "There are 0 patients in OO blood type.\n"
     ]
    }
   ],
   "source": [
    "def bldCount(name):\n",
    "    file = open(name, 'r+')\n",
    "    fileRead = file.read()\n",
    "\n",
    "    bins =[]\n",
    "    bins.append(fileRead.split(\" \"))\n",
    "    \n",
    "    GivenBloodGroups = [\"A\", \"B\", \"O\", \"AB\",\"OO\"]\n",
    "    for blood_type in GivenBloodGroups:\n",
    "    \n",
    "        print(f\"There are {bins[0].count(blood_type)} patients in {blood_type} blood type.\")\n",
    "bldCount('C:/GEORGIAN/Data Programming/bloodtype1.txt')"
   ]
  },
  {
   "cell_type": "markdown",
   "id": "7486f401",
   "metadata": {},
   "source": [
    "# Question 8"
   ]
  },
  {
   "cell_type": "markdown",
   "id": "eb2b5cef",
   "metadata": {},
   "source": [
    "#### Write a function curconv() that takes as input:\n",
    "#### 1. a currency represented using a string (e.g., 'JPY' for the Japanese Yen or 'EUR' for the Euro)\n",
    "#### 2. an amount\n",
    "#### and then converts and returns the amount in US dollars.\n",
    "#### >>> curconv('EUR', 100)\n",
    "#### 122.96544\n",
    "#### >>> curconv('JPY', 100)\n",
    "#### 1.241401\n"
   ]
  },
  {
   "cell_type": "code",
   "execution_count": 70,
   "id": "af3b8f44",
   "metadata": {},
   "outputs": [
    {
     "name": "stdout",
     "output_type": "stream",
     "text": [
      "122.96544\n",
      "1.241401\n"
     ]
    }
   ],
   "source": [
    "def curconv(currency, amount):\n",
    "    country_cur = {}\n",
    "\n",
    "    with open('C:/GEORGIAN/Data Programming/currencies.txt', 'r') as file:\n",
    "        for line in file:\n",
    "            individual = line.split()  \n",
    "            cou_Code = individual[0] \n",
    "            rates = float(individual[1])\n",
    "            country_cur[cou_Code] = rates\n",
    "\n",
    "    if currency in country_cur:\n",
    "        conversion = amount * country_cur[currency] \n",
    "        print(conversion)\n",
    "    else:\n",
    "        print('Currency is not exist')\n",
    "\n",
    "curconv('EUR', 100)\n",
    "curconv('JPY', 100)"
   ]
  },
  {
   "cell_type": "markdown",
   "id": "bb30773a",
   "metadata": {},
   "source": [
    "# Qusetion 9"
   ]
  },
  {
   "cell_type": "markdown",
   "id": "f9195d7c",
   "metadata": {},
   "source": [
    "#### Each of the following will cause an exception (an error). Identify what type of exception each will cause."
   ]
  },
  {
   "cell_type": "markdown",
   "id": "23b16a61",
   "metadata": {},
   "source": [
    "#### 1. Trying to add incompatible variables, as in adding 6 + ‘a’ \n",
    "#### Answer :TypeError\n",
    "#### 2. Referring to the 12th item of a list that has only 10 items\n",
    "#### Answer : IndexError\n",
    "#### 3. Using a value that is out of range for a function’s input, such as calling math.sqrt(-1.0)\n",
    "#### Answer : ValueError\n",
    "#### 4. Using an undeclared variable, such as print(x) when x has not been defined\n",
    "#### Answer : NameError\n",
    "#### 5. Trying to open a file that does not exist, such as mistyping the file name or looking in the wrong directory.\n",
    "#### Answer : FileNotFoundError\n"
   ]
  },
  {
   "cell_type": "markdown",
   "id": "2673965d",
   "metadata": {},
   "source": [
    "# Question 10"
   ]
  },
  {
   "cell_type": "markdown",
   "id": "7a5ad6df",
   "metadata": {},
   "source": [
    "#### Encryption is the process of hiding the meaning of a text by substituting letters in the message with other letters, according to some system. If the process is successful, no one but the intended recipient can understand the encrypted message. Cryptanalysis refers to attempts to undo the encryption, even if some details of the encryption are unknown (for example, if an encrypted message has been intercepted). The first step of cryptanalysis is often to build up a table of letter frequencies in the encrypted text.Assume that the string letters is already defined as\n",
    "#### 'abcdefghijklmnopqrstuvwxyz'. Write a function called frequencies() that takes a string as its only parameter, and returns a list of integers, showing the number of times each character appears in the text. Your function may ignore any characters that are not in letters.\n",
    "\n",
    "#### >>> frequencies('The quick red fox got bored and went home.') \n",
    "#### [1, 1, 1, 3, 5, 1, 1, 2, 1, 0, 1, 0, 1, 2, 4, 0, 1, 2, 0, 2,1, 0, 1, 1, 0, 0]\n",
    "#### >>> frequencies('apple')"
   ]
  },
  {
   "cell_type": "code",
   "execution_count": 47,
   "id": "bbad9974",
   "metadata": {},
   "outputs": [
    {
     "name": "stdout",
     "output_type": "stream",
     "text": [
      "[1, 0, 0, 0, 1, 0, 0, 0, 0, 0, 0, 1, 0, 0, 0, 2, 0, 0, 0, 0, 0, 0, 0, 0, 0, 0]\n"
     ]
    }
   ],
   "source": [
    "def frequencies(word):\n",
    "    counts = {}\n",
    "    word = word.lower()\n",
    "    \n",
    "    for char in word:\n",
    "      \n",
    "            if char in counts:\n",
    "                counts[char] += 1\n",
    "            else:\n",
    "                counts[char] = 1\n",
    "    \n",
    "    string = 'abcdefghijklmnopqrstuvwxyz'\n",
    "    output = []\n",
    "    \n",
    "    for char in string:\n",
    "        if char in counts:\n",
    "            output.append(counts[char])\n",
    "        else:\n",
    "            output.append(0)\n",
    "    \n",
    "    return output\n",
    "\n",
    "word = \"Apple\"\n",
    "output = frequencies(word)\n",
    "print(result)"
   ]
  },
  {
   "cell_type": "code",
   "execution_count": 49,
   "id": "5198798c",
   "metadata": {},
   "outputs": [
    {
     "data": {
      "text/plain": [
       "[1, 1, 1, 3, 5, 1, 1, 2, 1, 0, 1, 0, 1, 2, 4, 0, 1, 2, 0, 3, 1, 0, 1, 1, 0, 0]"
      ]
     },
     "execution_count": 49,
     "metadata": {},
     "output_type": "execute_result"
    }
   ],
   "source": [
    "frequencies('The quick red fox got bored and went home.') "
   ]
  },
  {
   "cell_type": "code",
   "execution_count": 50,
   "id": "2ba16cc0",
   "metadata": {},
   "outputs": [
    {
     "data": {
      "text/plain": [
       "[1, 1, 1, 1, 1, 1, 1, 1, 1, 1, 1, 1, 1, 1, 1, 1, 1, 1, 1, 1, 1, 1, 1, 1, 1, 1]"
      ]
     },
     "execution_count": 50,
     "metadata": {},
     "output_type": "execute_result"
    }
   ],
   "source": [
    "frequencies('abcdefghijklmnopqrstuvwxyz') "
   ]
  }
 ],
 "metadata": {
  "kernelspec": {
   "display_name": "Python 3 (ipykernel)",
   "language": "python",
   "name": "python3"
  },
  "language_info": {
   "codemirror_mode": {
    "name": "ipython",
    "version": 3
   },
   "file_extension": ".py",
   "mimetype": "text/x-python",
   "name": "python",
   "nbconvert_exporter": "python",
   "pygments_lexer": "ipython3",
   "version": "3.10.9"
  }
 },
 "nbformat": 4,
 "nbformat_minor": 5
}
