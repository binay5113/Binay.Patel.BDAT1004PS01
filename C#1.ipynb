{
 "cells": [
  {
   "cell_type": "markdown",
   "id": "2c967e53",
   "metadata": {},
   "source": [
    "# Question1"
   ]
  },
  {
   "cell_type": "markdown",
   "id": "88213931",
   "metadata": {},
   "source": [
    "#### What data type is each of the following?\n"
   ]
  },
  {
   "cell_type": "code",
   "execution_count": 4,
   "id": "7dd6568c",
   "metadata": {},
   "outputs": [
    {
     "name": "stdout",
     "output_type": "stream",
     "text": [
      "Data Type of 5 is :System.Int32\n",
      "Data Type of 5.0 is :System.Double\n",
      "Data Type of 5 > 1 is :System.Boolean\n",
      "Data Type of '5' is :System.Char\n",
      "Data Type of 5 * 2 is :System.Int32\n",
      "Data Type of 5 / 2 is :System.Int32\n",
      "Data Type of { 5, 2, 1 }; is :System.Int32[]\n",
      "Data Type of 5 == 3 is :System.Boolean\n",
      "Data Type of pi is :System.Double\n"
     ]
    }
   ],
   "source": [
    "        int a = 5;\n",
    "        double b = 5.0;\n",
    "        bool c = 5 > 1;\n",
    "        char d = '5';\n",
    "        int e = 5 * 2;\n",
    "        int f = 5 / 2;\n",
    "        int g = 5 % 2;\n",
    "        int[] h = { 5, 2, 1 };\n",
    "        bool i = 5 == 3;\n",
    "        double pi = Math.PI;\n",
    "\n",
    "        Console.WriteLine(\"Data Type of 5 is :\"  +a.GetType()); \n",
    "        Console.WriteLine(\"Data Type of 5.0 is :\"  +b.GetType()); \n",
    "        Console.WriteLine(\"Data Type of 5 > 1 is :\"  +c.GetType()); \n",
    "        Console.WriteLine(\"Data Type of '5' is :\"  +d.GetType()); \n",
    "        Console.WriteLine(\"Data Type of 5 * 2 is :\"  +e.GetType()); \n",
    "        Console.WriteLine(\"Data Type of 5 / 2 is :\"  +f.GetType());\n",
    "        Console.WriteLine(\"Data Type of { 5, 2, 1 }; is :\"  +h.GetType());\n",
    "        Console.WriteLine(\"Data Type of 5 == 3 is :\"  +i.GetType());\n",
    "        Console.WriteLine(\"Data Type of pi is :\"  +pi.GetType());\n",
    "        \n",
    "        \n"
   ]
  },
  {
   "cell_type": "markdown",
   "id": "6c237b10",
   "metadata": {},
   "source": [
    "# Question2"
   ]
  },
  {
   "cell_type": "markdown",
   "id": "414299d7",
   "metadata": {},
   "source": [
    "#### Write (and evaluate) C# expressions that answer these questions:\n",
    "#### a. How many letters are there in 'Supercalifragilisticexpialidocious'?\n",
    "#### b. Does 'Supercalifragilisticexpialidocious' contain 'ice' as a substring?\n",
    "#### c. Which of the following words is the longest: Supercalifragilisticexpialidocious, Honorificabilitudinitatibus, or Bababadalgharaghtakamminarronnkonn?\n",
    "#### d. Which composer comes first in the dictionary: 'Berlioz', 'Borodin', 'Brian', 'Bartok', 'Bellini', 'Buxtehude', 'Bernstein'. Which one comes last?"
   ]
  },
  {
   "cell_type": "code",
   "execution_count": 8,
   "id": "e5574f6e",
   "metadata": {},
   "outputs": [
    {
     "name": "stdout",
     "output_type": "stream",
     "text": [
      "number of letters in s1 string:34\n",
      "s1 conatins the 'ice'\n",
      "The longest string is : Supercalifragilisticexpialidocious\n",
      "FirstWord : Bartok\n",
      "LastWord : Buxtehude\n"
     ]
    }
   ],
   "source": [
    "//letters counting of string\n",
    "string s1 = \"Supercalifragilisticexpialidocious\";\n",
    "\n",
    "int count = s1.Length;\n",
    "Console.WriteLine(\"number of letters in s1 string:\" + count);\n",
    "\n",
    "//chechking substring\n",
    "bool checksubstring = s1.Contains(\"ice\");\n",
    "if(checksubstring)\n",
    "{\n",
    "Console.WriteLine(\"s1 conatins the 'ice'\");\n",
    "}\n",
    "else\n",
    "{\n",
    "Console.WriteLine(\"s1 does not conatin the 'ice'\");\n",
    "}\n",
    "\n",
    "//finding longest string\n",
    "string s2 = \"Honorificabilitudinitatibus\" ;\n",
    "string s3 = \"Bababadalgharaghtakamminarronnkonn\";\n",
    "\n",
    "string[] longeststring = new string[] {s1,s2 ,s3};\n",
    "string longestword = \"\";\n",
    "int length = 0;\n",
    "\n",
    "foreach(string word in longeststring)\n",
    "{\n",
    "    if (word.Length > length)\n",
    "    {\n",
    "        length = word.Length;\n",
    "        longestword = word;\n",
    "    }\n",
    "}\n",
    "   Console.WriteLine(\"The longest string is : \" + longestword); \n",
    "\n",
    "//find first and last composer\n",
    "\n",
    "List<string> words = new List<string> {\"Berlioz\", \"Borodin\", \"Brian\", \"Bartok\", \"Bellini\", \"Buxtehude\", \"Bernstein\"};\n",
    "\n",
    "words.Sort();\n",
    "\n",
    "string firstword = words[0];\n",
    "string lastword = words[6];\n",
    "\n",
    "Console.WriteLine(\"FirstWord : \" + firstword);\n",
    "Console.WriteLine(\"LastWord : \" + lastword);\n",
    "\n",
    "\n"
   ]
  },
  {
   "cell_type": "markdown",
   "id": "a26653fa",
   "metadata": {},
   "source": [
    "# Question 3"
   ]
  },
  {
   "cell_type": "markdown",
   "id": "7ea7867f",
   "metadata": {},
   "source": [
    "#### Implement function triangleArea(a,b,c) that takes as input the lengths of the 3 sides of a triangle and returns the area of the triangle. By Heron's formula, the area of a triangle with side lengths a, b, and c is s(s − a)(s −b)(s −c), where s = (a + b + c)/2.\n",
    "\n",
    "##### >>> triangleArea(2,2,2) \n",
    "##### 1.7320508075688772"
   ]
  },
  {
   "cell_type": "code",
   "execution_count": 15,
   "id": "4a9da46e",
   "metadata": {},
   "outputs": [
    {
     "name": "stdout",
     "output_type": "stream",
     "text": [
      "The area of triangle :1.7320508075688772\r\n"
     ]
    }
   ],
   "source": [
    "double triangleArea(double a,double b,double c)\n",
    "{\n",
    "    double s= (a + b + c)/2;\n",
    "    double area = Math.Sqrt(s * (s-a)* (s-b)* (s-c));  \n",
    "    return area;\n",
    "}\n",
    "Console.WriteLine(\"The area of triangle :\" + triangleArea(2,2,2));"
   ]
  },
  {
   "cell_type": "markdown",
   "id": "a215987d",
   "metadata": {},
   "source": [
    "# Question 4"
   ]
  },
  {
   "cell_type": "markdown",
   "id": "64618f5a",
   "metadata": {},
   "source": [
    "#### Write a program in C# Sharp to separate odd and even integers in separate arrays. \n",
    "#### Go to the editor\n",
    "#### Test Data :\n",
    "#### Input the number of elements to be stored in the array :5 \n",
    "#### Input 5 elements in the array :\n",
    "#### element - 0 : 25\n",
    "#### element - 1 : 47\n",
    "#### element - 2 : 42\n",
    "#### element - 3 : 56\n",
    "#### element - 4 : 32 \n",
    "#### Expected Output:\n",
    "#### The Even elements are: \n",
    "#### 42 56 32\n",
    "#### The Odd elements are : \n",
    "#### B\n",
    "#### 25 47"
   ]
  },
  {
   "cell_type": "code",
   "execution_count": 19,
   "id": "f8e91c86",
   "metadata": {},
   "outputs": [
    {
     "name": "stdout",
     "output_type": "stream",
     "text": [
      "EvenNumber Array list:42,56,32\n",
      "OddNumber Array list:25,47\n"
     ]
    }
   ],
   "source": [
    "int[] elements ={25,47,42,56,32};\n",
    "List<int> evennumbers = new List<int>();\n",
    "List<int> oddnumbers = new List<int>();\n",
    "\n",
    "foreach (int num in elements)\n",
    "{\n",
    "    if(num % 2 ==1)\n",
    "    {\n",
    "      oddnumbers.Add(num);\n",
    "    }\n",
    "    else\n",
    "    {\n",
    "      evennumbers.Add(num);\n",
    "    }\n",
    "}\n",
    "\n",
    "Console.WriteLine(\"EvenNumber Array list:\" + string.Join(\",\",evennumbers));\n",
    "Console.WriteLine(\"OddNumber Array list:\" + string.Join(\",\",oddnumbers));\n"
   ]
  },
  {
   "cell_type": "markdown",
   "id": "2e4cf2d8",
   "metadata": {},
   "source": [
    "# Question 5"
   ]
  },
  {
   "cell_type": "markdown",
   "id": "48b99da7",
   "metadata": {},
   "source": [
    "#### a. Write a function inside(x,y,x1,y1,x2,y2) that returns True or False \n",
    "#### dependingonwhetherthepoint(x,y)liesintherectanglewithlowerleft \n",
    "#### corner (x1,y1) and upper right corner (x2,y2).\n",
    "#### >>> inside(1,1,0,0,2,3)\n",
    "#### True\n",
    "#### >>> inside(-1,-1,0,0,2,3)\n",
    "#### False\n",
    "#### b. Use function inside()from part a. to write an expression that tests whether \n",
    "#### the point (1,1) lies in both of the following rectangles: one with lower left \n",
    "#### corner (0.3, 0.5) and upper right corner (1.1, 0.7) and the other with lower \n",
    "#### left corner (0.5, 0.2) and upper right corner (1.1, 2)."
   ]
  },
  {
   "cell_type": "code",
   "execution_count": 24,
   "id": "c079c00e",
   "metadata": {},
   "outputs": [
    {
     "name": "stdout",
     "output_type": "stream",
     "text": [
      "Does the point (1,1) lies in rectangle with coordinates (1,1,0,0,2,3)? True\n",
      "Does the point (-1,-1) lies in rectangle with coordinates (-1,-1,0,0,2,3)? False\n"
     ]
    }
   ],
   "source": [
    "bool Inside(double x, double y, double x1, double y1, double x2, double y2)\n",
    "{\n",
    "    if (x >= x1 && x <= x2 && y >= y1 && y <= y2) \n",
    "    {\n",
    "        return true;\n",
    "    }\n",
    "    else\n",
    "    {\n",
    "        return false;\n",
    "    }\n",
    "} \n",
    "        double a = 1;\n",
    "        double b = 1;\n",
    "        double c = 0;\n",
    "        double d = 0;\n",
    "        double e = 2;\n",
    "        double f = 3;\n",
    "\n",
    "        double a1 = -1;\n",
    "        double b1 = -1;\n",
    "        double c1 = 0;\n",
    "        double d1 = 0;\n",
    "        double e1 = 2;\n",
    "        double f1 = 3;\n",
    "\n",
    "        bool Inside1 = Inside(a, b, c, d, e, f);\n",
    "        bool Inside2 = Inside(a1, b1, c1, d1, e1, f1);\n",
    "\n",
    "Console.WriteLine(\"Does the point x=1 y=1 lies in rectangle with coordinates (1,1,0,0,2,3)? \" + Inside1);\n",
    "Console.WriteLine(\"Does the point x=-1 y=-1 lies in rectangle with coordinates (-1,-1,0,0,2,3)? \" + Inside2);"
   ]
  },
  {
   "cell_type": "code",
   "execution_count": 28,
   "id": "6287ba0c",
   "metadata": {},
   "outputs": [
    {
     "name": "stdout",
     "output_type": "stream",
     "text": [
      "Does the point (1,1) lies in rectangle with coordinates (1,1,0,0,2,3)? False\n",
      "Does the point (-1,-1) lies in rectangle with coordinates (-1,-1,0,0,2,3)? True\n"
     ]
    }
   ],
   "source": [
    "bool Inside(double x, double y, double x1, double y1, double x2, double y2)\n",
    "{\n",
    "    if (x >= x1 && x <= x2 && y >= y1 && y <= y2) \n",
    "    {\n",
    "        return true;\n",
    "    }\n",
    "    else\n",
    "    {\n",
    "        return false;\n",
    "    }\n",
    "} \n",
    "        double a = 1;\n",
    "        double b = 1;\n",
    "        double c = 0.3;\n",
    "        double d = 0.5;\n",
    "        double e = 1.1;\n",
    "        double f = 0.7;\n",
    "\n",
    "        double a1 = 1;\n",
    "        double b1 = 1;\n",
    "        double c1 = 0.5;\n",
    "        double d1 = 0.2;\n",
    "        double e1 = 1.1;\n",
    "        double f1 = 2;\n",
    "\n",
    "        bool Inside3 = Inside(a, b, c, d, e, f);\n",
    "        bool Inside4 = Inside(a1, b1, c1, d1, e1, f1);\n",
    "\n",
    "Console.WriteLine(\"Does the point x=1 y=1 lies in rectangle with coordinates (1,1,0.3,0.5,1.1,0.7)? \" + Inside3);\n",
    "Console.WriteLine(\"Does the point x=-1 y=-1 lies in rectangle with coordinates (1,1,0.5,0.2,1.1,2)? \" + Inside4);"
   ]
  },
  {
   "cell_type": "code",
   "execution_count": null,
   "id": "66f22906",
   "metadata": {},
   "outputs": [],
   "source": []
  }
 ],
 "metadata": {
  "kernelspec": {
   "display_name": ".NET (C#)",
   "language": "C#",
   "name": ".net-csharp"
  },
  "language_info": {
   "file_extension": ".cs",
   "mimetype": "text/x-csharp",
   "name": "C#",
   "pygments_lexer": "csharp",
   "version": "8.0"
  }
 },
 "nbformat": 4,
 "nbformat_minor": 5
}
